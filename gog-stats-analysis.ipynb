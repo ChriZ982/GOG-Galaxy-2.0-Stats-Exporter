{
 "cells": [
  {
   "cell_type": "code",
   "execution_count": null,
   "metadata": {},
   "outputs": [],
   "source": [
    "# Prerequisites\n",
    "!pip3 install pandas"
   ]
  },
  {
   "cell_type": "code",
   "execution_count": null,
   "metadata": {},
   "outputs": [],
   "source": [
    "# Prepare Data\n",
    "%run gog-stats-exporter.py -d data/galaxy-2.0.db -o data/output.csv"
   ]
  },
  {
   "cell_type": "code",
   "execution_count": null,
   "metadata": {},
   "outputs": [],
   "source": [
    "import pandas\n",
    "pandas.set_option('display.max_rows', None)\n",
    "df = pandas.read_csv(\"data/output.csv\")\n",
    "df"
   ]
  },
  {
   "cell_type": "code",
   "execution_count": null,
   "metadata": {},
   "outputs": [],
   "source": [
    "df2 = df[['title.title', 'myFriendsActivity.game_stats.average_game_time']]\n",
    "df2 = df2.dropna()\n",
    "df2 = df2.apply(lambda x: x/60.0 if x.name == 'myFriendsActivity.game_stats.average_game_time' else x)\n",
    "df2.sort_values(by=['myFriendsActivity.game_stats.average_game_time'], inplace=True, ascending=False)\n",
    "ax = df2.plot(kind='bar', x='title.title', y='myFriendsActivity.game_stats.average_game_time', figsize=(30,10), fontsize=20)"
   ]
  }
 ],
 "metadata": {
  "kernelspec": {
   "display_name": "Python 3",
   "language": "python",
   "name": "python3"
  },
  "language_info": {
   "codemirror_mode": {
    "name": "ipython",
    "version": 3
   },
   "file_extension": ".py",
   "mimetype": "text/x-python",
   "name": "python",
   "nbconvert_exporter": "python",
   "pygments_lexer": "ipython3",
   "version": "3.6.8"
  }
 },
 "nbformat": 4,
 "nbformat_minor": 4
}
